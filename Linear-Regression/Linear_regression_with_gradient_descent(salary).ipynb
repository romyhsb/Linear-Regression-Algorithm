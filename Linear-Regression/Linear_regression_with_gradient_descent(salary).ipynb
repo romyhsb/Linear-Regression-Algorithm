{
 "cells": [
  {
   "cell_type": "markdown",
   "metadata": {},
   "source": [
    "#### Ini akan notebook untuk melihat bagaimana cara kerja linear regression dengan menggunakan numpy dan gradien descent"
   ]
  },
  {
   "cell_type": "code",
   "execution_count": 60,
   "metadata": {},
   "outputs": [],
   "source": [
    "import pandas as pd\n",
    "import numpy as np\n",
    "import math\n",
    "import matplotlib.pyplot as plt"
   ]
  },
  {
   "cell_type": "code",
   "execution_count": 61,
   "metadata": {},
   "outputs": [
    {
     "name": "stdout",
     "output_type": "stream",
     "text": [
      "c:\\Users\\Romi\\Documents\\project-linear-regression\n"
     ]
    }
   ],
   "source": [
    "import os\n",
    "print(os.getcwd())"
   ]
  },
  {
   "cell_type": "code",
   "execution_count": 62,
   "metadata": {},
   "outputs": [],
   "source": [
    "os.chdir(\"c:/Users/Romi/Documents/project-linear-regression\")"
   ]
  },
  {
   "cell_type": "code",
   "execution_count": 63,
   "metadata": {},
   "outputs": [
    {
     "data": {
      "text/html": [
       "<div>\n",
       "<style scoped>\n",
       "    .dataframe tbody tr th:only-of-type {\n",
       "        vertical-align: middle;\n",
       "    }\n",
       "\n",
       "    .dataframe tbody tr th {\n",
       "        vertical-align: top;\n",
       "    }\n",
       "\n",
       "    .dataframe thead th {\n",
       "        text-align: right;\n",
       "    }\n",
       "</style>\n",
       "<table border=\"1\" class=\"dataframe\">\n",
       "  <thead>\n",
       "    <tr style=\"text-align: right;\">\n",
       "      <th></th>\n",
       "      <th>Unnamed: 0</th>\n",
       "      <th>YearsExperience</th>\n",
       "      <th>Salary</th>\n",
       "    </tr>\n",
       "  </thead>\n",
       "  <tbody>\n",
       "    <tr>\n",
       "      <th>0</th>\n",
       "      <td>0</td>\n",
       "      <td>1.2</td>\n",
       "      <td>39344.0</td>\n",
       "    </tr>\n",
       "    <tr>\n",
       "      <th>1</th>\n",
       "      <td>1</td>\n",
       "      <td>1.4</td>\n",
       "      <td>46206.0</td>\n",
       "    </tr>\n",
       "    <tr>\n",
       "      <th>2</th>\n",
       "      <td>2</td>\n",
       "      <td>1.6</td>\n",
       "      <td>37732.0</td>\n",
       "    </tr>\n",
       "    <tr>\n",
       "      <th>3</th>\n",
       "      <td>3</td>\n",
       "      <td>2.1</td>\n",
       "      <td>43526.0</td>\n",
       "    </tr>\n",
       "    <tr>\n",
       "      <th>4</th>\n",
       "      <td>4</td>\n",
       "      <td>2.3</td>\n",
       "      <td>39892.0</td>\n",
       "    </tr>\n",
       "  </tbody>\n",
       "</table>\n",
       "</div>"
      ],
      "text/plain": [
       "   Unnamed: 0  YearsExperience   Salary\n",
       "0           0              1.2  39344.0\n",
       "1           1              1.4  46206.0\n",
       "2           2              1.6  37732.0\n",
       "3           3              2.1  43526.0\n",
       "4           4              2.3  39892.0"
      ]
     },
     "execution_count": 63,
     "metadata": {},
     "output_type": "execute_result"
    }
   ],
   "source": [
    "df = pd.read_csv('dataset\\Salary_dataset.csv')\n",
    "df.head()"
   ]
  },
  {
   "cell_type": "code",
   "execution_count": 64,
   "metadata": {},
   "outputs": [],
   "source": [
    "df = df.drop(columns={'Unnamed: 0'})"
   ]
  },
  {
   "cell_type": "code",
   "execution_count": 65,
   "metadata": {},
   "outputs": [],
   "source": [
    "X_train = np.array(df['YearsExperience'])\n",
    "y_train = np.array(df['Salary'])"
   ]
  },
  {
   "cell_type": "code",
   "execution_count": 66,
   "metadata": {},
   "outputs": [
    {
     "data": {
      "text/plain": [
       "<matplotlib.collections.PathCollection at 0x1f3dc0efac0>"
      ]
     },
     "execution_count": 66,
     "metadata": {},
     "output_type": "execute_result"
    },
    {
     "data": {
      "image/png": "[encoded data removed]",
      "text/plain": [
       "<Figure size 640x480 with 1 Axes>"
      ]
     },
     "metadata": {},
     "output_type": "display_data"
    }
   ],
   "source": [
    "plt.scatter(X_train, y_train, color='blue', label='Data')"
   ]
  },
  {
   "cell_type": "code",
   "execution_count": 67,
   "metadata": {},
   "outputs": [],
   "source": [
    "# compute the cost \n",
    "def compute_cost(x, y, w, b):\n",
    "    m = x.shape[0]\n",
    "    cost = 0\n",
    "    for i in range(m):\n",
    "        f_wb = w * x[i] + b\n",
    "        cost = cost + (f_wb - y[i]) **2\n",
    "    total_cost = 1/(2*m) * cost\n",
    "    return total_cost"
   ]
  },
  {
   "cell_type": "code",
   "execution_count": 68,
   "metadata": {},
   "outputs": [],
   "source": [
    "# compute the gradient (garis miring)\n",
    "def compute_gradient(x, y, w, b):\n",
    "  m = x.shape[0]\n",
    "  dj_dw = 0\n",
    "  dj_db = 0\n",
    "  for i in range(m):\n",
    "    f_wb = w * x[i] + b\n",
    "    dj_dw_i = f_wb - y[i] * x[i]\n",
    "    dj_db_i = f_wb - y[i]\n",
    "    dj_db += dj_db_i\n",
    "    dj_dw += dj_dw_i\n",
    "  dj_dw = dj_dw / m\n",
    "  dj_db = dj_db / m\n",
    "  return dj_dw, dj_db\n"
   ]
  },
  {
   "cell_type": "code",
   "execution_count": 69,
   "metadata": {},
   "outputs": [],
   "source": [
    "def gradient_descent(x, y, w_in, b_in, alpha, num_iters, cost_function, gradient_function):\n",
    "  j_history = []\n",
    "  p_history = []\n",
    "  b = b_in\n",
    "  w = w_in\n",
    "\n",
    "  for i in range(num_iters):\n",
    "    dj_dw, dj_db = compute_gradient(x, y, w, b)\n",
    "\n",
    "    # update parameter dengan learning rate\n",
    "    b = b - alpha * dj_db\n",
    "    w = b - alpha * dj_dw\n",
    "\n",
    "    # save cost j at each iteration\n",
    "    if i<100000:\n",
    "      j_history.append(cost_function(x, y, w, b))\n",
    "      p_history.append([w, b])\n",
    "\n",
    "    if i% math.ceil(num_iters/10) == 0:\n",
    "      print(f\"Iteration {i:4}: Cost {j_history[-1]:0.2e} \",\n",
    "            f\"df_dw: {dj_dw:0.3e}, dj_db: {dj_db: 0.3e} \",\n",
    "            f\" w :{w:0.3e}, b:{b:0.5e}\")\n",
    "  return w, b, j_history, p_history"
   ]
  },
  {
   "cell_type": "code",
   "execution_count": 70,
   "metadata": {},
   "outputs": [
    {
     "name": "stdout",
     "output_type": "stream",
     "text": [
      "Iteration    0: Cost 2.98e+09  df_dw: -4.850e+05, dj_db: -7.600e+04   w :5.610e+02, b:7.60040e+01\n",
      "Iteration 1000: Cost 3.89e+07  df_dw: -4.091e+05, dj_db: -1.220e+02   w :1.190e+04, b:1.14867e+04\n",
      "Iteration 2000: Cost 3.93e+07  df_dw: -4.090e+05, dj_db: -2.030e-01   w :1.191e+04, b:1.15057e+04\n",
      "Iteration 3000: Cost 3.93e+07  df_dw: -4.090e+05, dj_db: -3.376e-04   w :1.191e+04, b:1.15057e+04\n",
      "Iteration 4000: Cost 3.93e+07  df_dw: -4.090e+05, dj_db: -5.614e-07   w :1.191e+04, b:1.15057e+04\n",
      "Iteration 5000: Cost 3.93e+07  df_dw: -4.090e+05, dj_db: -9.095e-10   w :1.191e+04, b:1.15057e+04\n",
      "Iteration 6000: Cost 3.93e+07  df_dw: -4.090e+05, dj_db: -9.095e-10   w :1.191e+04, b:1.15057e+04\n",
      "Iteration 7000: Cost 3.93e+07  df_dw: -4.090e+05, dj_db: -9.095e-10   w :1.191e+04, b:1.15057e+04\n",
      "Iteration 8000: Cost 3.93e+07  df_dw: -4.090e+05, dj_db: -9.095e-10   w :1.191e+04, b:1.15057e+04\n",
      "Iteration 9000: Cost 3.93e+07  df_dw: -4.090e+05, dj_db: -9.095e-10   w :1.191e+04, b:1.15057e+04\n",
      "(w,b) found by gradient_descent: (11914.7090, 11505.7086)\n"
     ]
    }
   ],
   "source": [
    "w_init = 0\n",
    "b_init = 0\n",
    "\n",
    "iterations = 10000\n",
    "tmp_alpha = 1.0e-3\n",
    "\n",
    "w_final, b_final, j_hist, p_hist = gradient_descent(X_train, y_train, w_init, b_init, tmp_alpha,\n",
    "                                                    iterations, compute_cost, compute_gradient)\n",
    "\n",
    "print(f\"(w,b) found by gradient_descent: ({w_final:8.4f}, {b_final:8.4f})\")"
   ]
  },
  {
   "cell_type": "code",
   "execution_count": 71,
   "metadata": {},
   "outputs": [
    {
     "name": "stdout",
     "output_type": "stream",
     "text": [
      "prediksi 38909.53930038761\n"
     ]
    }
   ],
   "source": [
    "print(f\"prediksi {w_final* 2.3 + b_final:}\")"
   ]
  },
  {
   "cell_type": "code",
   "execution_count": 72,
   "metadata": {},
   "outputs": [],
   "source": [
    "def compute_model_output(x, w, b):\n",
    "    m = np.shape(x)[0]\n",
    "    f_wb = np.zeros(m)\n",
    "    for i in range(m):\n",
    "        f_wb[i] = w * x[i] + b\n",
    "    return f_wb"
   ]
  },
  {
   "cell_type": "code",
   "execution_count": 73,
   "metadata": {},
   "outputs": [
    {
     "data": {
      "text/html": [
       "<div>\n",
       "<style scoped>\n",
       "    .dataframe tbody tr th:only-of-type {\n",
       "        vertical-align: middle;\n",
       "    }\n",
       "\n",
       "    .dataframe tbody tr th {\n",
       "        vertical-align: top;\n",
       "    }\n",
       "\n",
       "    .dataframe thead th {\n",
       "        text-align: right;\n",
       "    }\n",
       "</style>\n",
       "<table border=\"1\" class=\"dataframe\">\n",
       "  <thead>\n",
       "    <tr style=\"text-align: right;\">\n",
       "      <th></th>\n",
       "      <th>YearsExperience</th>\n",
       "      <th>Salary</th>\n",
       "    </tr>\n",
       "  </thead>\n",
       "  <tbody>\n",
       "    <tr>\n",
       "      <th>0</th>\n",
       "      <td>1.2</td>\n",
       "      <td>39344.0</td>\n",
       "    </tr>\n",
       "    <tr>\n",
       "      <th>1</th>\n",
       "      <td>1.4</td>\n",
       "      <td>46206.0</td>\n",
       "    </tr>\n",
       "    <tr>\n",
       "      <th>2</th>\n",
       "      <td>1.6</td>\n",
       "      <td>37732.0</td>\n",
       "    </tr>\n",
       "    <tr>\n",
       "      <th>3</th>\n",
       "      <td>2.1</td>\n",
       "      <td>43526.0</td>\n",
       "    </tr>\n",
       "    <tr>\n",
       "      <th>4</th>\n",
       "      <td>2.3</td>\n",
       "      <td>39892.0</td>\n",
       "    </tr>\n",
       "  </tbody>\n",
       "</table>\n",
       "</div>"
      ],
      "text/plain": [
       "   YearsExperience   Salary\n",
       "0              1.2  39344.0\n",
       "1              1.4  46206.0\n",
       "2              1.6  37732.0\n",
       "3              2.1  43526.0\n",
       "4              2.3  39892.0"
      ]
     },
     "execution_count": 73,
     "metadata": {},
     "output_type": "execute_result"
    }
   ],
   "source": [
    "df.head()"
   ]
  },
  {
   "cell_type": "code",
   "execution_count": 74,
   "metadata": {},
   "outputs": [],
   "source": [
    "result = compute_model_output(X_train, w_final, b_final)"
   ]
  },
  {
   "cell_type": "code",
   "execution_count": 75,
   "metadata": {},
   "outputs": [
    {
     "data": {
      "image/png": "[encoded data removed]",
      "text/plain": [
       "<Figure size 640x480 with 1 Axes>"
      ]
     },
     "metadata": {},
     "output_type": "display_data"
    }
   ],
   "source": [
    "plt.plot(X_train, result, c = 'b', label= 'our prediction')\n",
    "plt.scatter(X_train, y_train, marker='X', c='r', label='Actual Value')\n",
    "plt.title('Salary per years')\n",
    "plt.ylabel(\"Salary\")\n",
    "plt.xlabel(\"year experience\")\n",
    "plt.legend()\n",
    "plt.show()"
   ]
  },
  {
   "cell_type": "code",
   "execution_count": null,
   "metadata": {},
   "outputs": [],
   "source": []
  }
 ],
 "metadata": {
  "kernelspec": {
   "display_name": "my-venv",
   "language": "python",
   "name": "python3"
  },
  "language_info": {
   "codemirror_mode": {
    "name": "ipython",
    "version": 3
   },
   "file_extension": ".py",
   "mimetype": "text/x-python",
   "name": "python",
   "nbconvert_exporter": "python",
   "pygments_lexer": "ipython3",
   "version": "3.10.9"
  }
 },
 "nbformat": 4,
 "nbformat_minor": 2
}
