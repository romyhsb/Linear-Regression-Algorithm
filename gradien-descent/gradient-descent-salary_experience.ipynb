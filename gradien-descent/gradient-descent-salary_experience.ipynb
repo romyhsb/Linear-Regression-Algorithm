{
 "cells": [
  {
   "cell_type": "code",
   "execution_count": 4,
   "metadata": {},
   "outputs": [],
   "source": [
    "import pandas as pd\n",
    "import numpy as np\n",
    "import math"
   ]
  },
  {
   "cell_type": "code",
   "execution_count": 8,
   "metadata": {},
   "outputs": [
    {
     "name": "stdout",
     "output_type": "stream",
     "text": [
      "c:\\Users\\Romi\\Documents\\project-linear-regression\n"
     ]
    }
   ],
   "source": [
    "import os\n",
    "print(os.getcwd())"
   ]
  },
  {
   "cell_type": "code",
   "execution_count": 7,
   "metadata": {},
   "outputs": [],
   "source": [
    "os.chdir(\"c:/Users/Romi/Documents/project-linear-regression\")"
   ]
  },
  {
   "cell_type": "code",
   "execution_count": 10,
   "metadata": {},
   "outputs": [
    {
     "data": {
      "text/html": [
       "<div>\n",
       "<style scoped>\n",
       "    .dataframe tbody tr th:only-of-type {\n",
       "        vertical-align: middle;\n",
       "    }\n",
       "\n",
       "    .dataframe tbody tr th {\n",
       "        vertical-align: top;\n",
       "    }\n",
       "\n",
       "    .dataframe thead th {\n",
       "        text-align: right;\n",
       "    }\n",
       "</style>\n",
       "<table border=\"1\" class=\"dataframe\">\n",
       "  <thead>\n",
       "    <tr style=\"text-align: right;\">\n",
       "      <th></th>\n",
       "      <th>Unnamed: 0</th>\n",
       "      <th>YearsExperience</th>\n",
       "      <th>Salary</th>\n",
       "    </tr>\n",
       "  </thead>\n",
       "  <tbody>\n",
       "    <tr>\n",
       "      <th>22</th>\n",
       "      <td>22</td>\n",
       "      <td>8.0</td>\n",
       "      <td>101303.0</td>\n",
       "    </tr>\n",
       "    <tr>\n",
       "      <th>3</th>\n",
       "      <td>3</td>\n",
       "      <td>2.1</td>\n",
       "      <td>43526.0</td>\n",
       "    </tr>\n",
       "    <tr>\n",
       "      <th>27</th>\n",
       "      <td>27</td>\n",
       "      <td>9.7</td>\n",
       "      <td>112636.0</td>\n",
       "    </tr>\n",
       "    <tr>\n",
       "      <th>0</th>\n",
       "      <td>0</td>\n",
       "      <td>1.2</td>\n",
       "      <td>39344.0</td>\n",
       "    </tr>\n",
       "    <tr>\n",
       "      <th>13</th>\n",
       "      <td>13</td>\n",
       "      <td>4.2</td>\n",
       "      <td>57082.0</td>\n",
       "    </tr>\n",
       "  </tbody>\n",
       "</table>\n",
       "</div>"
      ],
      "text/plain": [
       "    Unnamed: 0  YearsExperience    Salary\n",
       "22          22              8.0  101303.0\n",
       "3            3              2.1   43526.0\n",
       "27          27              9.7  112636.0\n",
       "0            0              1.2   39344.0\n",
       "13          13              4.2   57082.0"
      ]
     },
     "execution_count": 10,
     "metadata": {},
     "output_type": "execute_result"
    }
   ],
   "source": [
    "df = pd.read_csv('dataset\\Salary_dataset.csv')\n",
    "df.sample(5)"
   ]
  },
  {
   "cell_type": "code",
   "execution_count": 11,
   "metadata": {},
   "outputs": [],
   "source": [
    "df = df.drop(columns={'Unnamed: 0'})"
   ]
  },
  {
   "cell_type": "code",
   "execution_count": 12,
   "metadata": {},
   "outputs": [],
   "source": [
    "df_year_experience = np.array(df['YearsExperience'])\n",
    "df_salary = np.array(df['Salary'])"
   ]
  },
  {
   "cell_type": "code",
   "execution_count": 14,
   "metadata": {},
   "outputs": [],
   "source": [
    "# compute the cost \n",
    "def compute_cost(x, y, w, b):\n",
    "    m = x.shape[0]\n",
    "    cost = 0\n",
    "    for i in range(m):\n",
    "        f_wb = w * x[i] + b\n",
    "        cost = cost + (f_wb - y[i]) **2\n",
    "    total_cost = 1/(2*m) * cost\n",
    "    return total_cost"
   ]
  },
  {
   "cell_type": "code",
   "execution_count": 15,
   "metadata": {},
   "outputs": [],
   "source": [
    "# compute the gradient (garis miring)\n",
    "def compute_gradient(x, y, w, b):\n",
    "  m = x.shape[0]\n",
    "  dj_dw = 0\n",
    "  dj_db = 0\n",
    "  for i in range(m):\n",
    "    f_wb = w * x[i] + b\n",
    "    dj_dw_i = f_wb - y[i] * x[i]\n",
    "    dj_db_i = f_wb - y[i]\n",
    "    dj_db += dj_db_i\n",
    "    dj_dw += dj_dw_i\n",
    "  dj_dw = dj_dw / m\n",
    "  dj_db = dj_db / m\n",
    "  return dj_dw, dj_db\n"
   ]
  },
  {
   "cell_type": "code",
   "execution_count": 16,
   "metadata": {},
   "outputs": [],
   "source": [
    "def gradient_descent(x, y, w_in, b_in, alpha, num_iters, cost_function, gradient_function):\n",
    "  j_history = []\n",
    "  p_history = []\n",
    "  b = b_in\n",
    "  w = w_in\n",
    "\n",
    "  for i in range(num_iters):\n",
    "    dj_dw, dj_db = compute_gradient(x, y, w, b)\n",
    "\n",
    "    # update parameter dengan learning rate\n",
    "    b = b - alpha * dj_db\n",
    "    w = b - alpha * dj_dw\n",
    "\n",
    "    # save cost j at each iteration\n",
    "    if i<100000:\n",
    "      j_history.append(cost_function(x, y, w, b))\n",
    "      p_history.append([w, b])\n",
    "\n",
    "    if i% math.ceil(num_iters/10) == 0:\n",
    "      print(f\"Iteration {i:4}: Cost {j_history[-1]:0.2e} \",\n",
    "            f\"df_dw: {dj_dw:0.3e}, dj_db: {dj_db: 0.3e} \",\n",
    "            f\" w :{w:0.3e}, b:{b:0.5e}\")\n",
    "  return w, b, j_history, p_history"
   ]
  },
  {
   "cell_type": "code",
   "execution_count": 17,
   "metadata": {},
   "outputs": [
    {
     "name": "stdout",
     "output_type": "stream",
     "text": [
      "Iteration    0: Cost 3.22e+09  df_dw: -4.850e+05, dj_db: -7.600e+04   w :5.610e+01, b:7.60040e+00\n",
      "Iteration 1000: Cost 8.67e+08  df_dw: -4.489e+05, dj_db: -3.989e+04   w :5.642e+03, b:5.59713e+03\n",
      "Iteration 2000: Cost 2.39e+08  df_dw: -4.300e+05, dj_db: -2.101e+04   w :8.584e+03, b:8.54094e+03\n",
      "Iteration 3000: Cost 7.86e+07  df_dw: -4.201e+05, dj_db: -1.106e+04   w :1.013e+04, b:1.00913e+04\n",
      "Iteration 4000: Cost 4.13e+07  df_dw: -4.148e+05, dj_db: -5.827e+03   w :1.095e+04, b:1.09079e+04\n",
      "Iteration 5000: Cost 3.48e+07  df_dw: -4.121e+05, dj_db: -3.069e+03   w :1.138e+04, b:1.13379e+04\n",
      "Iteration 6000: Cost 3.50e+07  df_dw: -4.106e+05, dj_db: -1.616e+03   w :1.161e+04, b:1.15644e+04\n",
      "Iteration 7000: Cost 3.61e+07  df_dw: -4.099e+05, dj_db: -8.513e+02   w :1.172e+04, b:1.16837e+04\n",
      "Iteration 8000: Cost 3.70e+07  df_dw: -4.094e+05, dj_db: -4.483e+02   w :1.179e+04, b:1.17465e+04\n",
      "Iteration 9000: Cost 3.75e+07  df_dw: -4.092e+05, dj_db: -2.361e+02   w :1.182e+04, b:1.17796e+04\n",
      "(w,b) found by gradient_descent: (11837.9243, 11797.0118)\n"
     ]
    }
   ],
   "source": [
    "w_init = 0\n",
    "b_init = 0\n",
    "\n",
    "iterations = 10000\n",
    "tmp_alpha = 1.0e-4\n",
    "\n",
    "w_final, b_final, j_hist, p_hist = gradient_descent(df_year_experience, df_salary, w_init, b_init, tmp_alpha,\n",
    "                                                    iterations, compute_cost, compute_gradient)\n",
    "\n",
    "print(f\"(w,b) found by gradient_descent: ({w_final:8.4f}, {b_final:8.4f})\")"
   ]
  },
  {
   "cell_type": "code",
   "execution_count": 18,
   "metadata": {},
   "outputs": [
    {
     "name": "stdout",
     "output_type": "stream",
     "text": [
      "prediksi 110051.78360628532\n"
     ]
    }
   ],
   "source": [
    "print(f\"prediksi {w_final* 8.3 + b_final:}\")"
   ]
  },
  {
   "cell_type": "code",
   "execution_count": 19,
   "metadata": {},
   "outputs": [
    {
     "name": "stdout",
     "output_type": "stream",
     "text": [
      "menambahkan kode untuk check githu\n"
     ]
    }
   ],
   "source": [
    "print(\"menambahkan kode untuk check githu\")"
   ]
  },
  {
   "cell_type": "code",
   "execution_count": null,
   "metadata": {},
   "outputs": [],
   "source": []
  }
 ],
 "metadata": {
  "kernelspec": {
   "display_name": "my-venv",
   "language": "python",
   "name": "python3"
  },
  "language_info": {
   "codemirror_mode": {
    "name": "ipython",
    "version": 3
   },
   "file_extension": ".py",
   "mimetype": "text/x-python",
   "name": "python",
   "nbconvert_exporter": "python",
   "pygments_lexer": "ipython3",
   "version": "3.10.9"
  }
 },
 "nbformat": 4,
 "nbformat_minor": 2
}
